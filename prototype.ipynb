{
 "metadata": {
  "language_info": {
   "codemirror_mode": {
    "name": "ipython",
    "version": 3
   },
   "file_extension": ".py",
   "mimetype": "text/x-python",
   "name": "python",
   "nbconvert_exporter": "python",
   "pygments_lexer": "ipython3",
   "version": "3.8.5-final"
  },
  "orig_nbformat": 2,
  "kernelspec": {
   "name": "python3",
   "display_name": "Python 3.8.5 64-bit",
   "metadata": {
    "interpreter": {
     "hash": "4359ab4501e1bc277e84dde2330a407624cb240229056e6711bf747bf499cba4"
    }
   }
  }
 },
 "nbformat": 4,
 "nbformat_minor": 2,
 "cells": [
  {
   "cell_type": "code",
   "execution_count": 1,
   "metadata": {},
   "outputs": [],
   "source": [
    "import pandas as pd"
   ]
  },
  {
   "cell_type": "code",
   "execution_count": 37,
   "metadata": {},
   "outputs": [],
   "source": [
    "df = pd.read_csv(\"soc-redditHyperlinks-title.tsv\", sep='\\t') #reads .tsv file into pandas dataframe"
   ]
  },
  {
   "cell_type": "code",
   "execution_count": 38,
   "metadata": {},
   "outputs": [
    {
     "output_type": "execute_result",
     "data": {
      "text/plain": [
       "    SOURCE_SUBREDDIT TARGET_SUBREDDIT  POST_ID            TIMESTAMP  \\\n",
       "0         rddtgaming         rddtrust  1u4pzzs  2013-12-31 16:39:18   \n",
       "1            xboxone    battlefield_4  1u4tmfs  2013-12-31 17:59:11   \n",
       "2                ps4    battlefield_4  1u4tmos  2013-12-31 17:59:40   \n",
       "3  fitnesscirclejerk        leangains  1u50xfs  2013-12-31 19:01:56   \n",
       "4  fitnesscirclejerk      lifeprotips  1u51nps  2013-12-31 21:02:28   \n",
       "\n",
       "   LINK_SENTIMENT                                         PROPERTIES  \n",
       "0               1  25.0,23.0,0.76,0.0,0.44,0.12,0.12,4.0,4.0,0.0,...  \n",
       "1               1  100.0,88.0,0.78,0.02,0.08,0.13,0.07,16.0,16.0,...  \n",
       "2               1  100.0,88.0,0.78,0.02,0.08,0.13,0.07,16.0,16.0,...  \n",
       "3               1  49.0,43.0,0.775510204082,0.0,0.265306122449,0....  \n",
       "4               1  14.0,14.0,0.785714285714,0.0,0.428571428571,0....  "
      ],
      "text/html": "<div>\n<style scoped>\n    .dataframe tbody tr th:only-of-type {\n        vertical-align: middle;\n    }\n\n    .dataframe tbody tr th {\n        vertical-align: top;\n    }\n\n    .dataframe thead th {\n        text-align: right;\n    }\n</style>\n<table border=\"1\" class=\"dataframe\">\n  <thead>\n    <tr style=\"text-align: right;\">\n      <th></th>\n      <th>SOURCE_SUBREDDIT</th>\n      <th>TARGET_SUBREDDIT</th>\n      <th>POST_ID</th>\n      <th>TIMESTAMP</th>\n      <th>LINK_SENTIMENT</th>\n      <th>PROPERTIES</th>\n    </tr>\n  </thead>\n  <tbody>\n    <tr>\n      <th>0</th>\n      <td>rddtgaming</td>\n      <td>rddtrust</td>\n      <td>1u4pzzs</td>\n      <td>2013-12-31 16:39:18</td>\n      <td>1</td>\n      <td>25.0,23.0,0.76,0.0,0.44,0.12,0.12,4.0,4.0,0.0,...</td>\n    </tr>\n    <tr>\n      <th>1</th>\n      <td>xboxone</td>\n      <td>battlefield_4</td>\n      <td>1u4tmfs</td>\n      <td>2013-12-31 17:59:11</td>\n      <td>1</td>\n      <td>100.0,88.0,0.78,0.02,0.08,0.13,0.07,16.0,16.0,...</td>\n    </tr>\n    <tr>\n      <th>2</th>\n      <td>ps4</td>\n      <td>battlefield_4</td>\n      <td>1u4tmos</td>\n      <td>2013-12-31 17:59:40</td>\n      <td>1</td>\n      <td>100.0,88.0,0.78,0.02,0.08,0.13,0.07,16.0,16.0,...</td>\n    </tr>\n    <tr>\n      <th>3</th>\n      <td>fitnesscirclejerk</td>\n      <td>leangains</td>\n      <td>1u50xfs</td>\n      <td>2013-12-31 19:01:56</td>\n      <td>1</td>\n      <td>49.0,43.0,0.775510204082,0.0,0.265306122449,0....</td>\n    </tr>\n    <tr>\n      <th>4</th>\n      <td>fitnesscirclejerk</td>\n      <td>lifeprotips</td>\n      <td>1u51nps</td>\n      <td>2013-12-31 21:02:28</td>\n      <td>1</td>\n      <td>14.0,14.0,0.785714285714,0.0,0.428571428571,0....</td>\n    </tr>\n  </tbody>\n</table>\n</div>"
     },
     "metadata": {},
     "execution_count": 38
    }
   ],
   "source": [
    "df.head()"
   ]
  },
  {
   "cell_type": "code",
   "execution_count": 40,
   "metadata": {},
   "outputs": [],
   "source": [
    "def reduce(x):\n",
    "    sentiments = x.split(\",\")[18:21] #stores positive, negative, and compound sentiment in list\n",
    "    return sentiments"
   ]
  },
  {
   "cell_type": "code",
   "execution_count": 41,
   "metadata": {
    "tags": []
   },
   "outputs": [],
   "source": [
    "df[\"PROPERTIES\"] = df[\"PROPERTIES\"].apply(reduce)"
   ]
  },
  {
   "cell_type": "code",
   "execution_count": 51,
   "metadata": {},
   "outputs": [
    {
     "output_type": "execute_result",
     "data": {
      "text/plain": [
       "    SOURCE_SUBREDDIT TARGET_SUBREDDIT  POST_ID            TIMESTAMP  \\\n",
       "0         rddtgaming         rddtrust  1u4pzzs  2013-12-31 16:39:18   \n",
       "1            xboxone    battlefield_4  1u4tmfs  2013-12-31 17:59:11   \n",
       "2                ps4    battlefield_4  1u4tmos  2013-12-31 17:59:40   \n",
       "3  fitnesscirclejerk        leangains  1u50xfs  2013-12-31 19:01:56   \n",
       "4  fitnesscirclejerk      lifeprotips  1u51nps  2013-12-31 21:02:28   \n",
       "\n",
       "   LINK_SENTIMENT            PROPERTIES  \n",
       "0               1       [0.0, 0.0, 0.0]  \n",
       "1               1  [0.195, 0.0, 0.4404]  \n",
       "2               1  [0.195, 0.0, 0.4404]  \n",
       "3               1       [0.0, 0.0, 0.0]  \n",
       "4               1       [0.0, 0.0, 0.0]  "
      ],
      "text/html": "<div>\n<style scoped>\n    .dataframe tbody tr th:only-of-type {\n        vertical-align: middle;\n    }\n\n    .dataframe tbody tr th {\n        vertical-align: top;\n    }\n\n    .dataframe thead th {\n        text-align: right;\n    }\n</style>\n<table border=\"1\" class=\"dataframe\">\n  <thead>\n    <tr style=\"text-align: right;\">\n      <th></th>\n      <th>SOURCE_SUBREDDIT</th>\n      <th>TARGET_SUBREDDIT</th>\n      <th>POST_ID</th>\n      <th>TIMESTAMP</th>\n      <th>LINK_SENTIMENT</th>\n      <th>PROPERTIES</th>\n    </tr>\n  </thead>\n  <tbody>\n    <tr>\n      <th>0</th>\n      <td>rddtgaming</td>\n      <td>rddtrust</td>\n      <td>1u4pzzs</td>\n      <td>2013-12-31 16:39:18</td>\n      <td>1</td>\n      <td>[0.0, 0.0, 0.0]</td>\n    </tr>\n    <tr>\n      <th>1</th>\n      <td>xboxone</td>\n      <td>battlefield_4</td>\n      <td>1u4tmfs</td>\n      <td>2013-12-31 17:59:11</td>\n      <td>1</td>\n      <td>[0.195, 0.0, 0.4404]</td>\n    </tr>\n    <tr>\n      <th>2</th>\n      <td>ps4</td>\n      <td>battlefield_4</td>\n      <td>1u4tmos</td>\n      <td>2013-12-31 17:59:40</td>\n      <td>1</td>\n      <td>[0.195, 0.0, 0.4404]</td>\n    </tr>\n    <tr>\n      <th>3</th>\n      <td>fitnesscirclejerk</td>\n      <td>leangains</td>\n      <td>1u50xfs</td>\n      <td>2013-12-31 19:01:56</td>\n      <td>1</td>\n      <td>[0.0, 0.0, 0.0]</td>\n    </tr>\n    <tr>\n      <th>4</th>\n      <td>fitnesscirclejerk</td>\n      <td>lifeprotips</td>\n      <td>1u51nps</td>\n      <td>2013-12-31 21:02:28</td>\n      <td>1</td>\n      <td>[0.0, 0.0, 0.0]</td>\n    </tr>\n  </tbody>\n</table>\n</div>"
     },
     "metadata": {},
     "execution_count": 51
    }
   ],
   "source": [
    "df.head()"
   ]
  },
  {
   "cell_type": "code",
   "execution_count": 61,
   "metadata": {},
   "outputs": [],
   "source": [
    "grouped = df.groupby([\"SOURCE_SUBREDDIT\", \"TARGET_SUBREDDIT\"])"
   ]
  },
  {
   "cell_type": "code",
   "execution_count": 67,
   "metadata": {},
   "outputs": [
    {
     "output_type": "execute_result",
     "data": {
      "text/plain": [
       "        POST_ID            TIMESTAMP  LINK_SENTIMENT               PROPERTIES\n",
       "3933    1v8e8hs  2014-01-14 15:59:30               1          [0.0, 0.0, 0.0]\n",
       "19254   1zisals  2014-03-04 03:38:44               1     [0.125, 0.0, 0.5719]\n",
       "20681   1zwqigs  2014-03-08 11:09:43               1          [0.0, 0.0, 0.0]\n",
       "67710   2bg6qes  2014-07-22 18:39:22               1    [0.0, 0.197, -0.4019]\n",
       "113204  2mx41bs  2014-11-20 14:13:04               1          [0.0, 0.0, 0.0]\n",
       "118739  2oe543s  2014-12-05 11:51:27               1     [0.474, 0.0, 0.4019]\n",
       "158614  2yt2uxs  2015-03-12 10:16:34               1  [0.047, 0.275, -0.9022]\n",
       "181674  34mdlms  2015-05-02 07:42:17               1          [0.0, 0.0, 0.0]\n",
       "204779  3ahr5xs  2015-06-20 02:06:53               1     [0.139, 0.0, 0.4404]\n",
       "220979  3e6jwes  2015-07-22 04:05:23               1          [0.0, 0.0, 0.0]\n",
       "225804  3f8ctws  2015-07-30 18:43:52               1  [0.101, 0.146, -0.0207]\n",
       "240938  3io3tss  2015-08-27 18:58:20               1          [0.0, 0.0, 0.0]\n",
       "263308  3oikros  2015-10-13 00:22:57               1     [0.875, 0.0, 0.7906]\n",
       "302181  3yng4qs  2015-12-29 04:53:43               1          [0.0, 0.0, 0.0]\n",
       "319126  43jzggs  2016-01-31 09:39:40               1    [0.0, 0.428, -0.9136]\n",
       "337698  49k1xrs  2016-03-08 11:16:24               1          [0.0, 0.0, 0.0]\n",
       "347252   4cc65b  2016-03-28 14:04:44              -1          [0.0, 0.0, 0.0]\n",
       "466388  5bpsmfs  2016-11-07 15:44:42               1          [0.0, 0.0, 0.0]\n",
       "471596  5dd98vs  2016-11-16 18:00:41               1     [0.321, 0.0, 0.7964]\n",
       "495948  5kxvo9s  2016-12-29 09:10:23               1    [0.0, 0.195, -0.4404]\n",
       "507528  5ooeqos  2017-01-18 01:22:12               1          [0.0, 0.0, 0.0]"
      ],
      "text/html": "<div>\n<style scoped>\n    .dataframe tbody tr th:only-of-type {\n        vertical-align: middle;\n    }\n\n    .dataframe tbody tr th {\n        vertical-align: top;\n    }\n\n    .dataframe thead th {\n        text-align: right;\n    }\n</style>\n<table border=\"1\" class=\"dataframe\">\n  <thead>\n    <tr style=\"text-align: right;\">\n      <th></th>\n      <th>POST_ID</th>\n      <th>TIMESTAMP</th>\n      <th>LINK_SENTIMENT</th>\n      <th>PROPERTIES</th>\n    </tr>\n  </thead>\n  <tbody>\n    <tr>\n      <th>3933</th>\n      <td>1v8e8hs</td>\n      <td>2014-01-14 15:59:30</td>\n      <td>1</td>\n      <td>[0.0, 0.0, 0.0]</td>\n    </tr>\n    <tr>\n      <th>19254</th>\n      <td>1zisals</td>\n      <td>2014-03-04 03:38:44</td>\n      <td>1</td>\n      <td>[0.125, 0.0, 0.5719]</td>\n    </tr>\n    <tr>\n      <th>20681</th>\n      <td>1zwqigs</td>\n      <td>2014-03-08 11:09:43</td>\n      <td>1</td>\n      <td>[0.0, 0.0, 0.0]</td>\n    </tr>\n    <tr>\n      <th>67710</th>\n      <td>2bg6qes</td>\n      <td>2014-07-22 18:39:22</td>\n      <td>1</td>\n      <td>[0.0, 0.197, -0.4019]</td>\n    </tr>\n    <tr>\n      <th>113204</th>\n      <td>2mx41bs</td>\n      <td>2014-11-20 14:13:04</td>\n      <td>1</td>\n      <td>[0.0, 0.0, 0.0]</td>\n    </tr>\n    <tr>\n      <th>118739</th>\n      <td>2oe543s</td>\n      <td>2014-12-05 11:51:27</td>\n      <td>1</td>\n      <td>[0.474, 0.0, 0.4019]</td>\n    </tr>\n    <tr>\n      <th>158614</th>\n      <td>2yt2uxs</td>\n      <td>2015-03-12 10:16:34</td>\n      <td>1</td>\n      <td>[0.047, 0.275, -0.9022]</td>\n    </tr>\n    <tr>\n      <th>181674</th>\n      <td>34mdlms</td>\n      <td>2015-05-02 07:42:17</td>\n      <td>1</td>\n      <td>[0.0, 0.0, 0.0]</td>\n    </tr>\n    <tr>\n      <th>204779</th>\n      <td>3ahr5xs</td>\n      <td>2015-06-20 02:06:53</td>\n      <td>1</td>\n      <td>[0.139, 0.0, 0.4404]</td>\n    </tr>\n    <tr>\n      <th>220979</th>\n      <td>3e6jwes</td>\n      <td>2015-07-22 04:05:23</td>\n      <td>1</td>\n      <td>[0.0, 0.0, 0.0]</td>\n    </tr>\n    <tr>\n      <th>225804</th>\n      <td>3f8ctws</td>\n      <td>2015-07-30 18:43:52</td>\n      <td>1</td>\n      <td>[0.101, 0.146, -0.0207]</td>\n    </tr>\n    <tr>\n      <th>240938</th>\n      <td>3io3tss</td>\n      <td>2015-08-27 18:58:20</td>\n      <td>1</td>\n      <td>[0.0, 0.0, 0.0]</td>\n    </tr>\n    <tr>\n      <th>263308</th>\n      <td>3oikros</td>\n      <td>2015-10-13 00:22:57</td>\n      <td>1</td>\n      <td>[0.875, 0.0, 0.7906]</td>\n    </tr>\n    <tr>\n      <th>302181</th>\n      <td>3yng4qs</td>\n      <td>2015-12-29 04:53:43</td>\n      <td>1</td>\n      <td>[0.0, 0.0, 0.0]</td>\n    </tr>\n    <tr>\n      <th>319126</th>\n      <td>43jzggs</td>\n      <td>2016-01-31 09:39:40</td>\n      <td>1</td>\n      <td>[0.0, 0.428, -0.9136]</td>\n    </tr>\n    <tr>\n      <th>337698</th>\n      <td>49k1xrs</td>\n      <td>2016-03-08 11:16:24</td>\n      <td>1</td>\n      <td>[0.0, 0.0, 0.0]</td>\n    </tr>\n    <tr>\n      <th>347252</th>\n      <td>4cc65b</td>\n      <td>2016-03-28 14:04:44</td>\n      <td>-1</td>\n      <td>[0.0, 0.0, 0.0]</td>\n    </tr>\n    <tr>\n      <th>466388</th>\n      <td>5bpsmfs</td>\n      <td>2016-11-07 15:44:42</td>\n      <td>1</td>\n      <td>[0.0, 0.0, 0.0]</td>\n    </tr>\n    <tr>\n      <th>471596</th>\n      <td>5dd98vs</td>\n      <td>2016-11-16 18:00:41</td>\n      <td>1</td>\n      <td>[0.321, 0.0, 0.7964]</td>\n    </tr>\n    <tr>\n      <th>495948</th>\n      <td>5kxvo9s</td>\n      <td>2016-12-29 09:10:23</td>\n      <td>1</td>\n      <td>[0.0, 0.195, -0.4404]</td>\n    </tr>\n    <tr>\n      <th>507528</th>\n      <td>5ooeqos</td>\n      <td>2017-01-18 01:22:12</td>\n      <td>1</td>\n      <td>[0.0, 0.0, 0.0]</td>\n    </tr>\n  </tbody>\n</table>\n</div>"
     },
     "metadata": {},
     "execution_count": 67
    }
   ],
   "source": [
    "grouped.get_group((\"ps4\", \"gaming\"))\n",
    "# grouped.first()"
   ]
  },
  {
   "cell_type": "code",
   "execution_count": null,
   "metadata": {},
   "outputs": [],
   "source": []
  },
  {
   "cell_type": "code",
   "execution_count": null,
   "metadata": {},
   "outputs": [],
   "source": []
  }
 ]
}